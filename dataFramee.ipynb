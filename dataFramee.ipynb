{
 "cells": [
  {
   "cell_type": "code",
   "execution_count": 3,
   "metadata": {
    "collapsed": false
   },
   "outputs": [],
   "source": [
    "from pyspark.sql import SQLContext,Row\n",
    "from pyspark.sql.types import *\n",
    "sqlContext=SQLContext(sc)\n",
    "from pyspark.sql import HiveContext\n",
    "sqlContextHive = SQLContext(sc)\n",
    "\n",
    "from pyspark.sql import functions as F\n",
    "from pyspark.sql.window import Window\n",
    "from pyspark.sql.functions import udf, UserDefinedFunction\n",
    "from pyspark.sql.types import StructType, StructField, IntegerType, StringType, DoubleType"
   ]
  },
  {
   "cell_type": "code",
   "execution_count": 4,
   "metadata": {
    "collapsed": true
   },
   "outputs": [],
   "source": [
    "df=sqlContext.read.json(\"/home/usuario/json/datosFrame2.json\")\n",
    "df2=sqlContext.read.json(\"/home/usuario/json/datosFrame4.json\")"
   ]
  },
  {
   "cell_type": "code",
   "execution_count": 5,
   "metadata": {
    "collapsed": false
   },
   "outputs": [
    {
     "name": "stdout",
     "output_type": "stream",
     "text": [
      "+---------------+-----------------+-----------+-------------+\n",
      "|         Ciudad|          Dominio|    Empresa|         Pais|\n",
      "+---------------+-----------------+-----------+-------------+\n",
      "|     Shibajiazi|       paypal.com|   Edgeblab|        China|\n",
      "|           Cela|          unc.edu|      Vidoo|     Portugal|\n",
      "|    Vila Viçosa|         blog.com| Feednation|     Portugal|\n",
      "|          Nîmes|          wsj.com|    Wikibox|       France|\n",
      "|      Sibubuhan|     examiner.com|       Lajo|    Indonesia|\n",
      "|       Pohbango|          ask.com|      Eamia|    Indonesia|\n",
      "|        Kirovsk|      t-online.de|   Livepath|       Russia|\n",
      "|        Jackson|    princeton.edu|     Skinix|United States|\n",
      "|Pinayagan Norte|  kickstarter.com|    Youfeed|  Philippines|\n",
      "|    Mikhaylovka|      tinyurl.com|   Fivespan|       Russia|\n",
      "|      Manganitu|    microsoft.com|     Zoozzy|    Indonesia|\n",
      "|           Tala|     mapquest.com|    Demivee|      Uruguay|\n",
      "|         Liqiao|elegantthemes.com|      Zoovu|        China|\n",
      "|        Älvsbyn|       amazon.com|Jabberstorm|       Sweden|\n",
      "|    Qingfenglin|independent.co.uk|     Tekfly|        China|\n",
      "+---------------+-----------------+-----------+-------------+\n",
      "\n"
     ]
    }
   ],
   "source": [
    "df.show()"
   ]
  },
  {
   "cell_type": "code",
   "execution_count": 6,
   "metadata": {
    "collapsed": false
   },
   "outputs": [
    {
     "name": "stdout",
     "output_type": "stream",
     "text": [
      "+------+------+------+-------+-------+-------+-------+-------+-------+\n",
      "|  var1|  var2|  var3|   var4|   var5|   var6|   var7|   var8|   var9|\n",
      "+------+------+------+-------+-------+-------+-------+-------+-------+\n",
      "|96.144|  62.2|61.081|201.963|213.734|289.775|560.659|582.176|562.905|\n",
      "|48.641| 35.15| 85.15|229.123|259.872|293.483|531.461| 545.11|588.144|\n",
      "| 6.792|60.115|75.409|213.524|254.432|274.228|596.711|530.989|510.951|\n",
      "|14.493| 3.624|90.182| 283.84|280.748|291.461|517.969|579.149|588.575|\n",
      "|97.587|50.854|11.011|296.741|251.491|242.829|537.405|566.048|512.266|\n",
      "|46.194|11.076|12.059|280.914|250.508|243.293|566.221|552.188|515.492|\n",
      "|61.192|70.313|49.059|295.448|246.761|291.473|517.404|515.031|545.148|\n",
      "|62.769|47.733|67.987| 262.58|246.378|291.605|568.012|579.943| 578.92|\n",
      "|77.478|28.311|51.608|275.114|288.506|218.734|520.432|503.582|514.702|\n",
      "|11.084|22.337|30.958|234.604|229.096|262.316|567.042|541.152| 593.45|\n",
      "|32.437|74.347|83.141| 246.46|238.176|280.886|562.809|536.021|566.654|\n",
      "|70.049|46.197|39.427|296.141| 266.27|212.778| 512.54|578.738|554.548|\n",
      "| 7.418|93.678|66.895|269.558|223.295|205.814| 555.55|586.673|564.076|\n",
      "|60.028|92.999|33.232|222.371| 264.43|231.024|594.488|543.101|587.988|\n",
      "|96.244|28.423|57.575| 209.15|269.735|222.821|590.566|561.562|543.737|\n",
      "|13.006|31.178|97.157|231.168| 208.87|288.647|564.843|550.545| 553.98|\n",
      "|79.697| 3.118|93.698|268.708|276.909|235.784|529.031|551.463|511.975|\n",
      "|90.336|23.723|27.878|244.635|226.327| 290.32|550.736|589.304|589.155|\n",
      "|91.754|30.698|73.961|238.381|200.052|283.967| 550.61|540.917|505.226|\n",
      "|71.541| 8.433|95.471|234.544|279.091|232.583|589.763|598.585|545.781|\n",
      "+------+------+------+-------+-------+-------+-------+-------+-------+\n",
      "only showing top 20 rows\n",
      "\n"
     ]
    }
   ],
   "source": [
    "df2.show()"
   ]
  },
  {
   "cell_type": "markdown",
   "metadata": {},
   "source": [
    "seleccionar de una tabla, las columnas que se necesitan"
   ]
  },
  {
   "cell_type": "code",
   "execution_count": 7,
   "metadata": {
    "collapsed": false
   },
   "outputs": [
    {
     "name": "stdout",
     "output_type": "stream",
     "text": [
      "+-------------+---------------+\n",
      "|         Pais|         Ciudad|\n",
      "+-------------+---------------+\n",
      "|        China|     Shibajiazi|\n",
      "|     Portugal|           Cela|\n",
      "|     Portugal|    Vila Viçosa|\n",
      "|       France|          Nîmes|\n",
      "|    Indonesia|      Sibubuhan|\n",
      "|    Indonesia|       Pohbango|\n",
      "|       Russia|        Kirovsk|\n",
      "|United States|        Jackson|\n",
      "|  Philippines|Pinayagan Norte|\n",
      "|       Russia|    Mikhaylovka|\n",
      "|    Indonesia|      Manganitu|\n",
      "|      Uruguay|           Tala|\n",
      "|        China|         Liqiao|\n",
      "|       Sweden|        Älvsbyn|\n",
      "|        China|    Qingfenglin|\n",
      "+-------------+---------------+\n",
      "\n"
     ]
    }
   ],
   "source": [
    "tabla=df.select(df[\"Pais\"],df[\"Ciudad\"])\n",
    "tabla.show()"
   ]
  },
  {
   "cell_type": "markdown",
   "metadata": {},
   "source": [
    "filtramos los menores que 10, de la variable 1 "
   ]
  },
  {
   "cell_type": "code",
   "execution_count": 8,
   "metadata": {
    "collapsed": false
   },
   "outputs": [
    {
     "name": "stdout",
     "output_type": "stream",
     "text": [
      "+-----+------+------+-------+-------+-------+-------+-------+-------+\n",
      "| var1|  var2|  var3|   var4|   var5|   var6|   var7|   var8|   var9|\n",
      "+-----+------+------+-------+-------+-------+-------+-------+-------+\n",
      "|6.792|60.115|75.409|213.524|254.432|274.228|596.711|530.989|510.951|\n",
      "|7.418|93.678|66.895|269.558|223.295|205.814| 555.55|586.673|564.076|\n",
      "|1.644|71.164|91.305|208.528|215.127|237.195| 582.26|593.331|578.248|\n",
      "|6.779| 5.148|75.337| 248.39|274.457|226.536|557.733|525.234|513.901|\n",
      "|9.277|15.924|93.727|297.779|254.762|239.035|580.555|592.148|523.937|\n",
      "|3.018|78.956|15.314|269.072|276.423|294.993|564.607|527.568|555.124|\n",
      "|9.292|33.107|85.289|  241.7|218.311|238.817|532.526|560.292|527.395|\n",
      "|7.833|55.983|40.429| 239.69|211.967|221.924|576.926|576.595|594.286|\n",
      "|4.195|35.068|76.426|277.328|285.232|262.792|575.272|589.066|543.009|\n",
      "|3.337|76.653|34.254|219.766|280.184|217.007|519.288| 501.64|513.935|\n",
      "+-----+------+------+-------+-------+-------+-------+-------+-------+\n",
      "\n"
     ]
    }
   ],
   "source": [
    "df2.filter(df2['var1'] < 10).show()"
   ]
  },
  {
   "cell_type": "code",
   "execution_count": 9,
   "metadata": {
    "collapsed": false
   },
   "outputs": [
    {
     "data": {
      "text/plain": [
       "DataFrame[var1: string, count: bigint]"
      ]
     },
     "execution_count": 9,
     "metadata": {},
     "output_type": "execute_result"
    }
   ],
   "source": [
    "df2.groupBy(\"var1\").count()"
   ]
  },
  {
   "cell_type": "code",
   "execution_count": 10,
   "metadata": {
    "collapsed": false
   },
   "outputs": [
    {
     "name": "stdout",
     "output_type": "stream",
     "text": [
      "root\n",
      " |-- Ciudad: string (nullable = true)\n",
      " |-- Dominio: string (nullable = true)\n",
      " |-- Empresa: string (nullable = true)\n",
      " |-- Pais: string (nullable = true)\n",
      "\n"
     ]
    }
   ],
   "source": [
    "df.printSchema()"
   ]
  },
  {
   "cell_type": "code",
   "execution_count": 11,
   "metadata": {
    "collapsed": false
   },
   "outputs": [
    {
     "data": {
      "text/plain": [
       "Row(Ciudad=u'Shibajiazi', Dominio=u'paypal.com', Empresa=u'Edgeblab', Pais=u'China')"
      ]
     },
     "execution_count": 11,
     "metadata": {},
     "output_type": "execute_result"
    }
   ],
   "source": [
    "df.first()"
   ]
  },
  {
   "cell_type": "markdown",
   "metadata": {},
   "source": [
    "comando describe,  me muestra datos estadisticos de la variable que seleccione"
   ]
  },
  {
   "cell_type": "code",
   "execution_count": 12,
   "metadata": {
    "collapsed": false
   },
   "outputs": [
    {
     "name": "stdout",
     "output_type": "stream",
     "text": [
      "+-------+-----------------+\n",
      "|summary|             var1|\n",
      "+-------+-----------------+\n",
      "|  count|               90|\n",
      "|   mean|52.42181111111112|\n",
      "| stddev|30.60399518748868|\n",
      "|    min|            1.644|\n",
      "|    max|           98.172|\n",
      "+-------+-----------------+\n",
      "\n"
     ]
    }
   ],
   "source": [
    "df2.describe(['var1']).show()"
   ]
  },
  {
   "cell_type": "code",
   "execution_count": 13,
   "metadata": {
    "collapsed": false
   },
   "outputs": [
    {
     "data": {
      "text/plain": [
       "Row(var2=u'62.2', var3=u'61.081', var4=u'201.963', var5=u'213.734', var6=u'289.775', var7=u'560.659', var8=u'582.176', var9=u'562.905')"
      ]
     },
     "execution_count": 13,
     "metadata": {},
     "output_type": "execute_result"
    }
   ],
   "source": [
    "df2.drop('var1').first()"
   ]
  },
  {
   "cell_type": "markdown",
   "metadata": {},
   "source": [
    "join entre dos dataFrames"
   ]
  },
  {
   "cell_type": "code",
   "execution_count": 14,
   "metadata": {
    "collapsed": false
   },
   "outputs": [
    {
     "data": {
      "text/plain": [
       "[('var1', 'string'),\n",
       " ('var2', 'string'),\n",
       " ('var3', 'string'),\n",
       " ('var4', 'string'),\n",
       " ('var5', 'string'),\n",
       " ('var6', 'string'),\n",
       " ('var7', 'string'),\n",
       " ('var8', 'string'),\n",
       " ('var9', 'string')]"
      ]
     },
     "execution_count": 14,
     "metadata": {},
     "output_type": "execute_result"
    }
   ],
   "source": [
    "df2.dtypes #tipos de variables de la tabla"
   ]
  },
  {
   "cell_type": "code",
   "execution_count": 15,
   "metadata": {
    "collapsed": false
   },
   "outputs": [
    {
     "name": "stdout",
     "output_type": "stream",
     "text": [
      "== Physical Plan ==\n",
      "Scan JSONRelation[Ciudad#0,Dominio#1,Empresa#2,Pais#3] InputPaths: file:/home/usuario/json/datosFrame2.json\n"
     ]
    }
   ],
   "source": [
    "df.explain()"
   ]
  },
  {
   "cell_type": "code",
   "execution_count": 16,
   "metadata": {
    "collapsed": false
   },
   "outputs": [
    {
     "name": "stdout",
     "output_type": "stream",
     "text": [
      "[u'C', u'h', u'i', u'n', u'a', u'P', u'o', u'r', u't', u'u', u'g', u'a', u'l', u'P', u'o', u'r', u't', u'u', u'g', u'a', u'l', u'F', u'r', u'a', u'n', u'c', u'e', u'I', u'n', u'd', u'o', u'n', u'e', u's', u'i', u'a', u'I', u'n', u'd', u'o', u'n', u'e', u's', u'i', u'a', u'R', u'u', u's', u's', u'i', u'a', u'U', u'n', u'i', u't', u'e', u'd', u' ', u'S', u't', u'a', u't', u'e', u's', u'P', u'h', u'i', u'l', u'i', u'p', u'p', u'i', u'n', u'e', u's', u'R', u'u', u's', u's', u'i', u'a', u'I', u'n', u'd', u'o', u'n', u'e', u's', u'i', u'a', u'U', u'r', u'u', u'g', u'u', u'a', u'y', u'C', u'h', u'i', u'n', u'a', u'S', u'w', u'e', u'd', u'e', u'n', u'C', u'h', u'i', u'n', u'a']\n"
     ]
    }
   ],
   "source": [
    "print(df.flatMap(lambda p: p.Pais).collect())"
   ]
  },
  {
   "cell_type": "code",
   "execution_count": 17,
   "metadata": {
    "collapsed": true
   },
   "outputs": [],
   "source": [
    "def f(person):\n",
    "    print(person.Ciudad)"
   ]
  },
  {
   "cell_type": "code",
   "execution_count": 18,
   "metadata": {
    "collapsed": false
   },
   "outputs": [
    {
     "name": "stdout",
     "output_type": "stream",
     "text": [
      "Column<Ciudad>\n"
     ]
    }
   ],
   "source": [
    "print(df.Ciudad)"
   ]
  },
  {
   "cell_type": "code",
   "execution_count": 19,
   "metadata": {
    "collapsed": false
   },
   "outputs": [],
   "source": [
    "dato=sc.parallelize([[1024]])\n",
    "#dato.map(lambda x:map(lambda y:int(y),x.split()))"
   ]
  },
  {
   "cell_type": "markdown",
   "metadata": {},
   "source": [
    "# creamos Data Frame\n"
   ]
  },
  {
   "cell_type": "code",
   "execution_count": 20,
   "metadata": {
    "collapsed": true
   },
   "outputs": [],
   "source": [
    "#archivo separado por comas\n",
    "lines=sc.textFile(\"/home/usuario/people1.txt\")"
   ]
  },
  {
   "cell_type": "code",
   "execution_count": 21,
   "metadata": {
    "collapsed": true
   },
   "outputs": [],
   "source": [
    "parts = lines.map(lambda l: l.split(\",\"))\n",
    "people = parts.map(lambda p: Row(name=p[0], age=int(p[1])))"
   ]
  },
  {
   "cell_type": "code",
   "execution_count": 22,
   "metadata": {
    "collapsed": false
   },
   "outputs": [],
   "source": [
    "schemaPeople = sqlContext.createDataFrame(people)\n",
    "schemaPeople.registerTempTable(\"people\")"
   ]
  },
  {
   "cell_type": "code",
   "execution_count": 23,
   "metadata": {
    "collapsed": false
   },
   "outputs": [],
   "source": [
    "#seleccionando los mas jovenes de la tabla, se guarda como sql en teenagers\n",
    "teenagers = sqlContext.sql(\"SELECT name FROM people WHERE age >= 13 AND age <= 19\")"
   ]
  },
  {
   "cell_type": "code",
   "execution_count": 24,
   "metadata": {
    "collapsed": false
   },
   "outputs": [
    {
     "name": "stdout",
     "output_type": "stream",
     "text": [
      "nombre del pollito: Justin\n"
     ]
    }
   ],
   "source": [
    "#mapeo sobre teenagers\n",
    "teenNames = teenagers.map(lambda p: \"nombre del pollito: \" + p.name)\n",
    "for teenName in teenNames.collect():\n",
    "    print(teenName)"
   ]
  },
  {
   "cell_type": "code",
   "execution_count": 25,
   "metadata": {
    "collapsed": false
   },
   "outputs": [
    {
     "data": {
      "text/plain": [
       "[Row(_1=u'Alice', _2=1)]"
      ]
     },
     "execution_count": 25,
     "metadata": {},
     "output_type": "execute_result"
    }
   ],
   "source": [
    "l=[('Alice',1)]\n",
    "sqlContext.createDataFrame(l).collect()\n"
   ]
  },
  {
   "cell_type": "code",
   "execution_count": 26,
   "metadata": {
    "collapsed": false
   },
   "outputs": [
    {
     "name": "stderr",
     "output_type": "stream",
     "text": [
      "/home/usuario/spark-1.6.0-bin-hadoop2.6/python/pyspark/sql/context.py:237: UserWarning: inferring schema from dict is deprecated,please use pyspark.sql.Row instead\n",
      "  warnings.warn(\"inferring schema from dict is deprecated,\"\n"
     ]
    },
    {
     "data": {
      "text/plain": [
       "[Row(Age=1, name=u'Alice')]"
      ]
     },
     "execution_count": 26,
     "metadata": {},
     "output_type": "execute_result"
    }
   ],
   "source": [
    "d=[{'name':'Alice','Age':1}]\n",
    "sqlContext.createDataFrame(d).collect()"
   ]
  },
  {
   "cell_type": "code",
   "execution_count": 27,
   "metadata": {
    "collapsed": false
   },
   "outputs": [
    {
     "data": {
      "text/plain": [
       "[Row(_1=u'Alice', _2=1)]"
      ]
     },
     "execution_count": 27,
     "metadata": {},
     "output_type": "execute_result"
    }
   ],
   "source": [
    "rdd=sc.parallelize(l)\n",
    "sqlContext.createDataFrame(rdd).collect()"
   ]
  },
  {
   "cell_type": "code",
   "execution_count": 28,
   "metadata": {
    "collapsed": false
   },
   "outputs": [
    {
     "data": {
      "text/plain": [
       "[Row(name=u'Alice', age=1)]"
      ]
     },
     "execution_count": 28,
     "metadata": {},
     "output_type": "execute_result"
    }
   ],
   "source": [
    "df=sqlContext.createDataFrame(rdd,['name','age'])\n",
    "df.collect()"
   ]
  },
  {
   "cell_type": "code",
   "execution_count": 29,
   "metadata": {
    "collapsed": false
   },
   "outputs": [
    {
     "data": {
      "text/plain": [
       "[Row(name=u'Alice', age=1)]"
      ]
     },
     "execution_count": 29,
     "metadata": {},
     "output_type": "execute_result"
    }
   ],
   "source": [
    "Person=Row('name','age')\n",
    "person=rdd.map(lambda r:Person(*r))\n",
    "df2=sqlContext.createDataFrame(person)\n",
    "df2.collect()"
   ]
  },
  {
   "cell_type": "code",
   "execution_count": 30,
   "metadata": {
    "collapsed": false
   },
   "outputs": [
    {
     "data": {
      "text/plain": [
       "[Row(name=u'Alice', age=1)]"
      ]
     },
     "execution_count": 30,
     "metadata": {},
     "output_type": "execute_result"
    }
   ],
   "source": [
    "sqlContext.createDataFrame(df.toPandas()).collect()"
   ]
  },
  {
   "cell_type": "code",
   "execution_count": 31,
   "metadata": {
    "collapsed": false
   },
   "outputs": [],
   "source": [
    "parts = lines.map(lambda l: l.split(\",\"))\n",
    "people = parts.map(lambda p: (p[0], p[1].strip()))\n",
    "schemaString = \"name age\"\n",
    "fields = [StructField(field_name, StringType(), True) for field_name in schemaString.split()]\n",
    "schema = StructType(fields)"
   ]
  },
  {
   "cell_type": "markdown",
   "metadata": {
    "collapsed": true
   },
   "source": [
    "# Creacion de esquema y estructura"
   ]
  },
  {
   "cell_type": "code",
   "execution_count": 32,
   "metadata": {
    "collapsed": false
   },
   "outputs": [],
   "source": [
    "mEnsayo=sc.parallelize([[1,2,3,4,5],[7,4,1,2,5],[10,8,9,6,5]])\n",
    "\n",
    "mEnsayo2=sc.parallelize([[(1,2),(1,4),(1,3),(1,4)],[(2,9),(2,6),(2,8),(2,3)],[(3,6),(3,3),(3,4),(3,5)],\n",
    "                        [(4,2),(4,4),(4,3),(4,4)]])\n",
    "schemaString = \"banda1 banda2 banda3 banda4\"\n",
    "fields1 = [StructField(field_name, ArrayType(IntegerType(),False), True) for field_name in schemaString.split()]\n",
    "schema = StructType(fields1)\n",
    "sHive1 = sqlContextHive.createDataFrame(mEnsayo2, schema)\n",
    "sHive1.registerTempTable(\"tabla1\")"
   ]
  },
  {
   "cell_type": "code",
   "execution_count": 33,
   "metadata": {
    "collapsed": false
   },
   "outputs": [
    {
     "data": {
      "text/plain": [
       "[[(1, 2), (1, 4), (1, 3), (1, 4)],\n",
       " [(2, 9), (2, 6), (2, 8), (2, 3)],\n",
       " [(3, 6), (3, 3), (3, 4), (3, 5)],\n",
       " [(4, 2), (4, 4), (4, 3), (4, 4)]]"
      ]
     },
     "execution_count": 33,
     "metadata": {},
     "output_type": "execute_result"
    }
   ],
   "source": [
    "mEnsayo2.collect()"
   ]
  },
  {
   "cell_type": "code",
   "execution_count": 34,
   "metadata": {
    "collapsed": false
   },
   "outputs": [
    {
     "name": "stdout",
     "output_type": "stream",
     "text": [
      "+------+------+------+------+\n",
      "|banda1|banda2|banda3|banda4|\n",
      "+------+------+------+------+\n",
      "|[1, 2]|[1, 4]|[1, 3]|[1, 4]|\n",
      "|[2, 9]|[2, 6]|[2, 8]|[2, 3]|\n",
      "|[3, 6]|[3, 3]|[3, 4]|[3, 5]|\n",
      "|[4, 2]|[4, 4]|[4, 3]|[4, 4]|\n",
      "+------+------+------+------+\n",
      "\n"
     ]
    }
   ],
   "source": [
    "sHive1.show()"
   ]
  },
  {
   "cell_type": "code",
   "execution_count": 35,
   "metadata": {
    "collapsed": false
   },
   "outputs": [
    {
     "name": "stdout",
     "output_type": "stream",
     "text": [
      "+---+---+\n",
      "|  A|  B|\n",
      "+---+---+\n",
      "|  1|  4|\n",
      "|  3|  5|\n",
      "|  3|  6|\n",
      "|  5|  6|\n",
      "|  5|  6|\n",
      "|  6|  4|\n",
      "|  3|  5|\n",
      "|  1|  4|\n",
      "|  2|  5|\n",
      "|  6|  4|\n",
      "|  3|  5|\n",
      "|  1|  4|\n",
      "|  2|  5|\n",
      "+---+---+\n",
      "\n"
     ]
    }
   ],
   "source": [
    "df2 = sqlContextHive.createDataFrame([(1, 4), (3, 5), (3, 6),(5, 6),(5, 6),\n",
    "                                     (6, 4), (3, 5),(1, 4), (2, 5),(6, 4), (3, 5),(1, 4), (2, 5)], [\"A\", \"B\"])\n",
    "df2.registerTempTable(\"df2\")\n",
    "df2.show()"
   ]
  },
  {
   "cell_type": "code",
   "execution_count": 36,
   "metadata": {
    "collapsed": false
   },
   "outputs": [
    {
     "name": "stdout",
     "output_type": "stream",
     "text": [
      "+---+-----+\n",
      "|  A|count|\n",
      "+---+-----+\n",
      "|  1|    3|\n",
      "|  2|    2|\n",
      "|  3|    4|\n",
      "|  5|    2|\n",
      "|  6|    2|\n",
      "+---+-----+\n",
      "\n"
     ]
    }
   ],
   "source": [
    "df2.groupBy(\"A\").count().show()"
   ]
  },
  {
   "cell_type": "code",
   "execution_count": 37,
   "metadata": {
    "collapsed": true
   },
   "outputs": [],
   "source": [
    "def fun(a):   \n",
    "    return a*2\n",
    "def fun1(a):   \n",
    "    return a[1]*10"
   ]
  },
  {
   "cell_type": "code",
   "execution_count": 38,
   "metadata": {
    "collapsed": true
   },
   "outputs": [],
   "source": [
    "def funt(a):\n",
    "    return"
   ]
  },
  {
   "cell_type": "code",
   "execution_count": 39,
   "metadata": {
    "collapsed": true
   },
   "outputs": [],
   "source": [
    "Funcion=UserDefinedFunction(fun, IntegerType())\n",
    "Funcion2=UserDefinedFunction(fun1, IntegerType())"
   ]
  },
  {
   "cell_type": "code",
   "execution_count": 40,
   "metadata": {
    "collapsed": false
   },
   "outputs": [],
   "source": [
    "st1=df2.select(\"B\", Funcion('A'))\n",
    "st2=df2.withColumn(\"prueba\", Funcion(df2.A))\n",
    "#st1.show()"
   ]
  },
  {
   "cell_type": "code",
   "execution_count": 41,
   "metadata": {
    "collapsed": false
   },
   "outputs": [],
   "source": [
    "st3=sHive1.select(\"banda2\",Funcion2('banda1'))\n",
    "st4=sHive1.withColumn(\"resultado\",Funcion2(sHive1.banda1))"
   ]
  },
  {
   "cell_type": "code",
   "execution_count": 42,
   "metadata": {
    "collapsed": false
   },
   "outputs": [
    {
     "name": "stdout",
     "output_type": "stream",
     "text": [
      "+------+-----+\n",
      "|banda1|count|\n",
      "+------+-----+\n",
      "|[2, 9]|    1|\n",
      "|[1, 2]|    1|\n",
      "|[3, 6]|    1|\n",
      "|[4, 2]|    1|\n",
      "+------+-----+\n",
      "\n"
     ]
    }
   ],
   "source": [
    "sHive1.groupBy(\"banda1\").count().show()"
   ]
  },
  {
   "cell_type": "code",
   "execution_count": 61,
   "metadata": {
    "collapsed": false
   },
   "outputs": [],
   "source": [
    "mEnsayo=sc.parallelize([[1,2,3,4,5],[7,4,1,2,5],[10,8,9,6,5]])\n",
    "mEnsayo3=sc.parallelize([[(1,2),(1,4),(1,3),(1,4)],[(2,9),(2,6),(2,8),(2,3)],[(3,6),(3,3),(3,4),(3,5)],\n",
    "                        [(4,2),(4,4),(4,3),(4,4)]])\n",
    "schemaString = \"banda1\"\n",
    "fields1 = [StructField(field_name,IntegerType(), True) for field_name in schemaString.split()]\n",
    "schema = StructType(fields1)\n",
    "sHive2 = sqlContextHive.createDataFrame(mEnsayo, schema)\n",
    "sHive2.registerTempTable(\"tabla2\")"
   ]
  },
  {
   "cell_type": "code",
   "execution_count": 62,
   "metadata": {
    "collapsed": false
   },
   "outputs": [
    {
     "name": "stdout",
     "output_type": "stream",
     "text": [
      "+------+\n",
      "|banda1|\n",
      "+------+\n",
      "|     1|\n",
      "|     7|\n",
      "|    10|\n",
      "+------+\n",
      "\n"
     ]
    }
   ],
   "source": [
    "sHive2.show()"
   ]
  },
  {
   "cell_type": "code",
   "execution_count": null,
   "metadata": {
    "collapsed": false
   },
   "outputs": [],
   "source": []
  },
  {
   "cell_type": "code",
   "execution_count": null,
   "metadata": {
    "collapsed": true
   },
   "outputs": [],
   "source": []
  },
  {
   "cell_type": "code",
   "execution_count": null,
   "metadata": {
    "collapsed": true
   },
   "outputs": [],
   "source": []
  },
  {
   "cell_type": "code",
   "execution_count": null,
   "metadata": {
    "collapsed": true
   },
   "outputs": [],
   "source": []
  }
 ],
 "metadata": {
  "kernelspec": {
   "display_name": "Python 2",
   "language": "python",
   "name": "python2"
  },
  "language_info": {
   "codemirror_mode": {
    "name": "ipython",
    "version": 2
   },
   "file_extension": ".py",
   "mimetype": "text/x-python",
   "name": "python",
   "nbconvert_exporter": "python",
   "pygments_lexer": "ipython2",
   "version": "2.7.10"
  }
 },
 "nbformat": 4,
 "nbformat_minor": 0
}
